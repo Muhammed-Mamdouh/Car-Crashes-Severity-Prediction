{
 "cells": [
  {
   "cell_type": "code",
   "execution_count": 1,
   "metadata": {
    "execution": {
     "iopub.execute_input": "2021-07-27T16:43:59.525810Z",
     "iopub.status.busy": "2021-07-27T16:43:59.525177Z",
     "iopub.status.idle": "2021-07-27T16:43:59.527953Z",
     "shell.execute_reply": "2021-07-27T16:43:59.528414Z",
     "shell.execute_reply.started": "2021-07-27T16:43:19.737437Z"
    },
    "papermill": {
     "duration": 0.047258,
     "end_time": "2021-07-27T16:43:59.528710",
     "exception": false,
     "start_time": "2021-07-27T16:43:59.481452",
     "status": "completed"
    },
    "tags": []
   },
   "outputs": [],
   "source": [
    "#importing necessary libraries\n",
    "import pandas as pd\n",
    "from datetime import datetime as dt"
   ]
  },
  {
   "cell_type": "code",
   "execution_count": 2,
   "metadata": {
    "execution": {
     "iopub.execute_input": "2021-07-27T16:43:59.597127Z",
     "iopub.status.busy": "2021-07-27T16:43:59.596344Z",
     "iopub.status.idle": "2021-07-27T16:43:59.715493Z",
     "shell.execute_reply": "2021-07-27T16:43:59.716462Z",
     "shell.execute_reply.started": "2021-07-27T16:43:19.743333Z"
    },
    "papermill": {
     "duration": 0.155997,
     "end_time": "2021-07-27T16:43:59.716744",
     "exception": false,
     "start_time": "2021-07-27T16:43:59.560747",
     "status": "completed"
    },
    "tags": []
   },
   "outputs": [],
   "source": [
    "#reading the weather data\n",
    "weather = pd.read_csv('weather-sfcsv.csv')"
   ]
  },
  {
   "cell_type": "code",
   "execution_count": 3,
   "metadata": {
    "execution": {
     "iopub.execute_input": "2021-07-27T16:43:59.792373Z",
     "iopub.status.busy": "2021-07-27T16:43:59.791723Z",
     "iopub.status.idle": "2021-07-27T16:43:59.825797Z",
     "shell.execute_reply": "2021-07-27T16:43:59.825162Z",
     "shell.execute_reply.started": "2021-07-27T16:43:19.779201Z"
    },
    "papermill": {
     "duration": 0.070246,
     "end_time": "2021-07-27T16:43:59.825940",
     "exception": false,
     "start_time": "2021-07-27T16:43:59.755694",
     "status": "completed"
    },
    "tags": []
   },
   "outputs": [],
   "source": [
    "#reading the train dataset\n",
    "train = pd.read_csv('train.csv')"
   ]
  },
  {
   "cell_type": "code",
   "execution_count": 4,
   "metadata": {
    "execution": {
     "iopub.execute_input": "2021-07-27T16:43:59.893609Z",
     "iopub.status.busy": "2021-07-27T16:43:59.892892Z",
     "iopub.status.idle": "2021-07-27T16:43:59.909029Z",
     "shell.execute_reply": "2021-07-27T16:43:59.909560Z",
     "shell.execute_reply.started": "2021-07-27T16:43:19.808747Z"
    },
    "papermill": {
     "duration": 0.052341,
     "end_time": "2021-07-27T16:43:59.909742",
     "exception": false,
     "start_time": "2021-07-27T16:43:59.857401",
     "status": "completed"
    },
    "tags": []
   },
   "outputs": [],
   "source": [
    "#reading the test dataset\n",
    "test = pd.read_csv('test.csv')"
   ]
  },
  {
   "cell_type": "code",
   "execution_count": 5,
   "metadata": {
    "execution": {
     "iopub.execute_input": "2021-07-27T16:43:59.978234Z",
     "iopub.status.busy": "2021-07-27T16:43:59.977189Z",
     "iopub.status.idle": "2021-07-27T16:44:00.010794Z",
     "shell.execute_reply": "2021-07-27T16:44:00.010183Z",
     "shell.execute_reply.started": "2021-07-27T16:43:19.825671Z"
    },
    "papermill": {
     "duration": 0.068873,
     "end_time": "2021-07-27T16:44:00.010946",
     "exception": false,
     "start_time": "2021-07-27T16:43:59.942073",
     "status": "completed"
    },
    "tags": []
   },
   "outputs": [],
   "source": [
    "#converting the XML holidays file to pandas dataframe\n",
    "import xml.etree.ElementTree as Xet\n",
    "  \n",
    "cols = [\"date\",\"description\"]\n",
    "rows = []\n",
    "  \n",
    "# Parsing the XML file\n",
    "xmlparse = Xet.parse(\"holidays.xml\")\n",
    "root = xmlparse.getroot()\n",
    "for i in root:\n",
    "    date = i.find(\"date\").text\n",
    "    description = i.find(\"description\").text\n",
    "    \n",
    "  \n",
    "    rows.append({\"date\": date,\n",
    "                 \"description\": description,\n",
    "                 })\n",
    "  \n",
    "holidays = pd.DataFrame(rows, columns=cols)"
   ]
  },
  {
   "cell_type": "code",
   "execution_count": null,
   "metadata": {
    "papermill": {
     "duration": 0.031575,
     "end_time": "2021-07-27T16:44:00.075524",
     "exception": false,
     "start_time": "2021-07-27T16:44:00.043949",
     "status": "completed"
    },
    "tags": []
   },
   "outputs": [],
   "source": []
  },
  {
   "cell_type": "code",
   "execution_count": 6,
   "metadata": {
    "execution": {
     "iopub.execute_input": "2021-07-27T16:44:00.148323Z",
     "iopub.status.busy": "2021-07-27T16:44:00.147331Z",
     "iopub.status.idle": "2021-07-27T16:44:00.151488Z",
     "shell.execute_reply": "2021-07-27T16:44:00.152309Z",
     "shell.execute_reply.started": "2021-07-27T16:43:19.838404Z"
    },
    "papermill": {
     "duration": 0.043497,
     "end_time": "2021-07-27T16:44:00.152509",
     "exception": false,
     "start_time": "2021-07-27T16:44:00.109012",
     "status": "completed"
    },
    "tags": []
   },
   "outputs": [],
   "source": [
    "#a function that merges the holidays dataset with another given dataset\n",
    "def mergeholidays(train,holidays):\n",
    "    train['date'] = train['timestamp'].str.slice(stop=10)\n",
    "    train = pd.merge(train,holidays,on = 'date',how = 'left')\n",
    "    #train[['description']]=train[['description']].fillna(\"not holiday\")\n",
    "    train['description']=train['description'].notna()\n",
    "    return train"
   ]
  },
  {
   "cell_type": "code",
   "execution_count": 7,
   "metadata": {
    "execution": {
     "iopub.execute_input": "2021-07-27T16:44:00.232305Z",
     "iopub.status.busy": "2021-07-27T16:44:00.231446Z",
     "iopub.status.idle": "2021-07-27T16:44:00.272772Z",
     "shell.execute_reply": "2021-07-27T16:44:00.273471Z",
     "shell.execute_reply.started": "2021-07-27T16:43:19.853089Z"
    },
    "papermill": {
     "duration": 0.077863,
     "end_time": "2021-07-27T16:44:00.273726",
     "exception": false,
     "start_time": "2021-07-27T16:44:00.195863",
     "status": "completed"
    },
    "tags": []
   },
   "outputs": [],
   "source": [
    "#merging train and holidays dataset\n",
    "train=mergeholidays(train,holidays)"
   ]
  },
  {
   "cell_type": "code",
   "execution_count": 8,
   "metadata": {
    "execution": {
     "iopub.execute_input": "2021-07-27T16:44:00.343253Z",
     "iopub.status.busy": "2021-07-27T16:44:00.342608Z",
     "iopub.status.idle": "2021-07-27T16:44:00.394765Z",
     "shell.execute_reply": "2021-07-27T16:44:00.394116Z",
     "shell.execute_reply.started": "2021-07-27T16:43:19.883180Z"
    },
    "papermill": {
     "duration": 0.086246,
     "end_time": "2021-07-27T16:44:00.394906",
     "exception": false,
     "start_time": "2021-07-27T16:44:00.308660",
     "status": "completed"
    },
    "tags": []
   },
   "outputs": [],
   "source": [
    "#changing the format of the strings in the Month Day Hour columns in the weather dataset\n",
    "weather['Month'] = weather['Month'].map(\"{:02}\".format)            \n",
    "weather['Day'] = weather['Day'].map(\"{:02}\".format) \n",
    "weather['Hour'] = weather['Hour'].map(\"{:02}\".format) \n",
    "weather['datedate'] = weather[\"Year\"].apply(str)+\"-\"+weather[\"Month\"].apply(str)+\"-\"+weather[\"Day\"].apply(str)+\" \"+weather[\"Hour\"].apply(str)\n",
    "#dropping the columns that are not needed\n",
    "weather1 = weather.drop(['Wind_Chill(F)','Precipitation(in)','Year','Month','Day','Hour','Selected',],1)"
   ]
  },
  {
   "cell_type": "code",
   "execution_count": 9,
   "metadata": {
    "execution": {
     "iopub.execute_input": "2021-07-27T16:44:00.461374Z",
     "iopub.status.busy": "2021-07-27T16:44:00.460766Z",
     "iopub.status.idle": "2021-07-27T16:44:00.656011Z",
     "shell.execute_reply": "2021-07-27T16:44:00.654974Z",
     "shell.execute_reply.started": "2021-07-27T16:43:19.927396Z"
    },
    "papermill": {
     "duration": 0.229707,
     "end_time": "2021-07-27T16:44:00.656195",
     "exception": false,
     "start_time": "2021-07-27T16:44:00.426488",
     "status": "completed"
    },
    "tags": []
   },
   "outputs": [],
   "source": [
    "#spliting the windy condition from the Weather_condition column in the weather dataset and adding it to a seperate column\n",
    "windy = []\n",
    "conditions=[]\n",
    "for i in range(len(weather1)):\n",
    "    cond=weather1['Weather_Condition'].iloc[i]\n",
    "    if (\"/\" in str(weather1['Weather_Condition'].iloc[i])) :\n",
    "        cond=weather1['Weather_Condition'].iloc[i].split('/')[0].strip()\n",
    "        windy.append(1)\n",
    "    else:\n",
    "        windy.append(0)\n",
    "    conditions.append(cond)\n",
    "weather1['Windy'] = windy\n",
    "weather1['Weather_Condition']=conditions"
   ]
  },
  {
   "cell_type": "code",
   "execution_count": 10,
   "metadata": {
    "execution": {
     "iopub.execute_input": "2021-07-27T16:44:00.731416Z",
     "iopub.status.busy": "2021-07-27T16:44:00.730730Z",
     "iopub.status.idle": "2021-07-27T16:44:01.819420Z",
     "shell.execute_reply": "2021-07-27T16:44:01.819940Z",
     "shell.execute_reply.started": "2021-07-27T16:43:20.123096Z"
    },
    "papermill": {
     "duration": 1.12376,
     "end_time": "2021-07-27T16:44:01.820113",
     "exception": false,
     "start_time": "2021-07-27T16:44:00.696353",
     "status": "completed"
    },
    "tags": []
   },
   "outputs": [],
   "source": [
    "#imputing the missing values of of the weather dataset by the mean of the column\n",
    "from sklearn.impute import SimpleImputer\n",
    "import numpy as np\n",
    "miss_mean_imputer = SimpleImputer(missing_values=np.nan, strategy='mean')\n",
    "\n",
    "miss_mean_imputer = miss_mean_imputer.fit(weather1[['Temperature(F)','Visibility(mi)','Wind_Speed(mph)','Humidity(%)']])\n",
    "\n",
    "weather1[['Temperature(F)','Visibility(mi)','Wind_Speed(mph)','Humidity(%)']] = miss_mean_imputer.transform(weather1[['Temperature(F)','Visibility(mi)','Wind_Speed(mph)','Humidity(%)']])"
   ]
  },
  {
   "cell_type": "code",
   "execution_count": 11,
   "metadata": {
    "execution": {
     "iopub.execute_input": "2021-07-27T16:44:01.893282Z",
     "iopub.status.busy": "2021-07-27T16:44:01.892632Z",
     "iopub.status.idle": "2021-07-27T16:44:01.936126Z",
     "shell.execute_reply": "2021-07-27T16:44:01.935437Z",
     "shell.execute_reply.started": "2021-07-27T16:43:20.149937Z"
    },
    "papermill": {
     "duration": 0.082916,
     "end_time": "2021-07-27T16:44:01.936300",
     "exception": false,
     "start_time": "2021-07-27T16:44:01.853384",
     "status": "completed"
    },
    "tags": []
   },
   "outputs": [
    {
     "data": {
      "text/html": [
       "<div>\n",
       "<style scoped>\n",
       "    .dataframe tbody tr th:only-of-type {\n",
       "        vertical-align: middle;\n",
       "    }\n",
       "\n",
       "    .dataframe tbody tr th {\n",
       "        vertical-align: top;\n",
       "    }\n",
       "\n",
       "    .dataframe thead th {\n",
       "        text-align: right;\n",
       "    }\n",
       "</style>\n",
       "<table border=\"1\" class=\"dataframe\">\n",
       "  <thead>\n",
       "    <tr style=\"text-align: right;\">\n",
       "      <th></th>\n",
       "      <th>Weather_Condition</th>\n",
       "      <th>Temperature(F)</th>\n",
       "      <th>Humidity(%)</th>\n",
       "      <th>Wind_Speed(mph)</th>\n",
       "      <th>Visibility(mi)</th>\n",
       "      <th>datedate</th>\n",
       "      <th>Windy</th>\n",
       "    </tr>\n",
       "  </thead>\n",
       "  <tbody>\n",
       "    <tr>\n",
       "      <th>0</th>\n",
       "      <td>Fair</td>\n",
       "      <td>64.0</td>\n",
       "      <td>70.0</td>\n",
       "      <td>20.0</td>\n",
       "      <td>10.0</td>\n",
       "      <td>2020-07-27 18</td>\n",
       "      <td>0</td>\n",
       "    </tr>\n",
       "    <tr>\n",
       "      <th>1</th>\n",
       "      <td>Partly Cloudy</td>\n",
       "      <td>71.1</td>\n",
       "      <td>57.0</td>\n",
       "      <td>9.2</td>\n",
       "      <td>10.0</td>\n",
       "      <td>2017-09-30 17</td>\n",
       "      <td>0</td>\n",
       "    </tr>\n",
       "    <tr>\n",
       "      <th>2</th>\n",
       "      <td>Overcast</td>\n",
       "      <td>57.9</td>\n",
       "      <td>87.0</td>\n",
       "      <td>15.0</td>\n",
       "      <td>9.0</td>\n",
       "      <td>2017-06-27 05</td>\n",
       "      <td>0</td>\n",
       "    </tr>\n",
       "    <tr>\n",
       "      <th>3</th>\n",
       "      <td>Clear</td>\n",
       "      <td>66.9</td>\n",
       "      <td>73.0</td>\n",
       "      <td>4.6</td>\n",
       "      <td>10.0</td>\n",
       "      <td>2016-09-07 09</td>\n",
       "      <td>0</td>\n",
       "    </tr>\n",
       "    <tr>\n",
       "      <th>4</th>\n",
       "      <td>Fair</td>\n",
       "      <td>52.0</td>\n",
       "      <td>89.0</td>\n",
       "      <td>0.0</td>\n",
       "      <td>9.0</td>\n",
       "      <td>2019-10-19 02</td>\n",
       "      <td>0</td>\n",
       "    </tr>\n",
       "    <tr>\n",
       "      <th>...</th>\n",
       "      <td>...</td>\n",
       "      <td>...</td>\n",
       "      <td>...</td>\n",
       "      <td>...</td>\n",
       "      <td>...</td>\n",
       "      <td>...</td>\n",
       "      <td>...</td>\n",
       "    </tr>\n",
       "    <tr>\n",
       "      <th>6895</th>\n",
       "      <td>Clear</td>\n",
       "      <td>51.1</td>\n",
       "      <td>80.0</td>\n",
       "      <td>3.5</td>\n",
       "      <td>10.0</td>\n",
       "      <td>2018-01-23 21</td>\n",
       "      <td>0</td>\n",
       "    </tr>\n",
       "    <tr>\n",
       "      <th>6896</th>\n",
       "      <td>Cloudy</td>\n",
       "      <td>56.0</td>\n",
       "      <td>80.0</td>\n",
       "      <td>9.0</td>\n",
       "      <td>9.0</td>\n",
       "      <td>2019-06-16 07</td>\n",
       "      <td>0</td>\n",
       "    </tr>\n",
       "    <tr>\n",
       "      <th>6897</th>\n",
       "      <td>Rain</td>\n",
       "      <td>61.0</td>\n",
       "      <td>90.0</td>\n",
       "      <td>32.2</td>\n",
       "      <td>7.0</td>\n",
       "      <td>2017-02-07 04</td>\n",
       "      <td>0</td>\n",
       "    </tr>\n",
       "    <tr>\n",
       "      <th>6898</th>\n",
       "      <td>Mostly Cloudy</td>\n",
       "      <td>61.0</td>\n",
       "      <td>67.0</td>\n",
       "      <td>21.9</td>\n",
       "      <td>10.0</td>\n",
       "      <td>2016-04-22 16</td>\n",
       "      <td>0</td>\n",
       "    </tr>\n",
       "    <tr>\n",
       "      <th>6899</th>\n",
       "      <td>Shallow Fog</td>\n",
       "      <td>50.0</td>\n",
       "      <td>93.0</td>\n",
       "      <td>4.6</td>\n",
       "      <td>10.0</td>\n",
       "      <td>2016-12-11 02</td>\n",
       "      <td>0</td>\n",
       "    </tr>\n",
       "  </tbody>\n",
       "</table>\n",
       "<p>6900 rows × 7 columns</p>\n",
       "</div>"
      ],
      "text/plain": [
       "     Weather_Condition  Temperature(F)  Humidity(%)  Wind_Speed(mph)  \\\n",
       "0                 Fair            64.0         70.0             20.0   \n",
       "1        Partly Cloudy            71.1         57.0              9.2   \n",
       "2             Overcast            57.9         87.0             15.0   \n",
       "3                Clear            66.9         73.0              4.6   \n",
       "4                 Fair            52.0         89.0              0.0   \n",
       "...                ...             ...          ...              ...   \n",
       "6895             Clear            51.1         80.0              3.5   \n",
       "6896            Cloudy            56.0         80.0              9.0   \n",
       "6897              Rain            61.0         90.0             32.2   \n",
       "6898     Mostly Cloudy            61.0         67.0             21.9   \n",
       "6899       Shallow Fog            50.0         93.0              4.6   \n",
       "\n",
       "      Visibility(mi)       datedate  Windy  \n",
       "0               10.0  2020-07-27 18      0  \n",
       "1               10.0  2017-09-30 17      0  \n",
       "2                9.0  2017-06-27 05      0  \n",
       "3               10.0  2016-09-07 09      0  \n",
       "4                9.0  2019-10-19 02      0  \n",
       "...              ...            ...    ...  \n",
       "6895            10.0  2018-01-23 21      0  \n",
       "6896             9.0  2019-06-16 07      0  \n",
       "6897             7.0  2017-02-07 04      0  \n",
       "6898            10.0  2016-04-22 16      0  \n",
       "6899            10.0  2016-12-11 02      0  \n",
       "\n",
       "[6900 rows x 7 columns]"
      ]
     },
     "execution_count": 11,
     "metadata": {},
     "output_type": "execute_result"
    }
   ],
   "source": [
    "weather1.dropna(inplace = True)\n",
    "weather1.reset_index(drop = True)"
   ]
  },
  {
   "cell_type": "code",
   "execution_count": 12,
   "metadata": {
    "execution": {
     "iopub.execute_input": "2021-07-27T16:44:02.021754Z",
     "iopub.status.busy": "2021-07-27T16:44:02.021066Z",
     "iopub.status.idle": "2021-07-27T16:44:02.025325Z",
     "shell.execute_reply": "2021-07-27T16:44:02.025783Z",
     "shell.execute_reply.started": "2021-07-27T16:43:20.185017Z"
    },
    "papermill": {
     "duration": 0.04533,
     "end_time": "2021-07-27T16:44:02.025951",
     "exception": false,
     "start_time": "2021-07-27T16:44:01.980621",
     "status": "completed"
    },
    "tags": []
   },
   "outputs": [],
   "source": [
    "#removing duplicates in weather data\n",
    "weather2=weather1.loc[weather1['datedate'].duplicated()==False]"
   ]
  },
  {
   "cell_type": "code",
   "execution_count": 13,
   "metadata": {
    "execution": {
     "iopub.execute_input": "2021-07-27T16:44:02.102535Z",
     "iopub.status.busy": "2021-07-27T16:44:02.101646Z",
     "iopub.status.idle": "2021-07-27T16:44:02.105435Z",
     "shell.execute_reply": "2021-07-27T16:44:02.106174Z",
     "shell.execute_reply.started": "2021-07-27T16:43:20.195616Z"
    },
    "papermill": {
     "duration": 0.04666,
     "end_time": "2021-07-27T16:44:02.106407",
     "exception": false,
     "start_time": "2021-07-27T16:44:02.059747",
     "status": "completed"
    },
    "tags": []
   },
   "outputs": [],
   "source": [
    "#function to left join data and weather data\n",
    "def mergeweather(train,weather2):\n",
    "    train['datedate'] = train['timestamp'].str.slice(stop=13)\n",
    "    train = pd.merge(train,weather2,on = 'datedate',how = 'left')\n",
    "    return train"
   ]
  },
  {
   "cell_type": "code",
   "execution_count": 14,
   "metadata": {
    "execution": {
     "iopub.execute_input": "2021-07-27T16:44:02.188074Z",
     "iopub.status.busy": "2021-07-27T16:44:02.187372Z",
     "iopub.status.idle": "2021-07-27T16:44:02.233150Z",
     "shell.execute_reply": "2021-07-27T16:44:02.233635Z",
     "shell.execute_reply.started": "2021-07-27T16:43:20.205599Z"
    },
    "papermill": {
     "duration": 0.087785,
     "end_time": "2021-07-27T16:44:02.233805",
     "exception": false,
     "start_time": "2021-07-27T16:44:02.146020",
     "status": "completed"
    },
    "tags": []
   },
   "outputs": [
    {
     "name": "stdout",
     "output_type": "stream",
     "text": [
      "<class 'pandas.core.frame.DataFrame'>\n",
      "Int64Index: 6407 entries, 0 to 6406\n",
      "Data columns (total 25 columns):\n",
      " #   Column             Non-Null Count  Dtype  \n",
      "---  ------             --------------  -----  \n",
      " 0   ID                 6407 non-null   int64  \n",
      " 1   Lat                6407 non-null   float64\n",
      " 2   Lng                6407 non-null   float64\n",
      " 3   Bump               6407 non-null   bool   \n",
      " 4   Distance(mi)       6407 non-null   float64\n",
      " 5   Crossing           6407 non-null   bool   \n",
      " 6   Give_Way           6407 non-null   bool   \n",
      " 7   Junction           6407 non-null   bool   \n",
      " 8   No_Exit            6407 non-null   bool   \n",
      " 9   Railway            6407 non-null   bool   \n",
      " 10  Roundabout         6407 non-null   bool   \n",
      " 11  Stop               6407 non-null   bool   \n",
      " 12  Amenity            6407 non-null   bool   \n",
      " 13  Side               6407 non-null   object \n",
      " 14  Severity           6407 non-null   int64  \n",
      " 15  timestamp          6407 non-null   object \n",
      " 16  date               6407 non-null   object \n",
      " 17  description        6407 non-null   bool   \n",
      " 18  datedate           6407 non-null   object \n",
      " 19  Weather_Condition  6406 non-null   object \n",
      " 20  Temperature(F)     6406 non-null   float64\n",
      " 21  Humidity(%)        6406 non-null   float64\n",
      " 22  Wind_Speed(mph)    6406 non-null   float64\n",
      " 23  Visibility(mi)     6406 non-null   float64\n",
      " 24  Windy              6406 non-null   float64\n",
      "dtypes: bool(10), float64(8), int64(2), object(5)\n",
      "memory usage: 863.4+ KB\n"
     ]
    }
   ],
   "source": [
    "train=mergeweather(train,weather2)\n",
    "\n",
    "train.info()"
   ]
  },
  {
   "cell_type": "code",
   "execution_count": 15,
   "metadata": {
    "execution": {
     "iopub.execute_input": "2021-07-27T16:44:02.304457Z",
     "iopub.status.busy": "2021-07-27T16:44:02.303500Z",
     "iopub.status.idle": "2021-07-27T16:44:02.310363Z",
     "shell.execute_reply": "2021-07-27T16:44:02.310803Z",
     "shell.execute_reply.started": "2021-07-27T16:43:20.255008Z"
    },
    "papermill": {
     "duration": 0.043611,
     "end_time": "2021-07-27T16:44:02.310968",
     "exception": false,
     "start_time": "2021-07-27T16:44:02.267357",
     "status": "completed"
    },
    "tags": []
   },
   "outputs": [],
   "source": [
    "#clean full data from null values\n",
    "def clean(train):\n",
    "    train.dropna(inplace = True)\n",
    "    train.reset_index(drop = True)\n",
    "    return train\n",
    "\n",
    "def timeCategories2(x):\n",
    "    if x.hour>= 0 and x.hour < 4:\n",
    "        return '1'\n",
    "    if x.hour>= 4 and x.hour<8:\n",
    "        return '2'\n",
    "    elif x.hour >= 8 and x.hour < 12:\n",
    "        return '3'\n",
    "    elif x.hour >= 12 and x.hour < 16:\n",
    "        return '4'\n",
    "    elif x.hour >= 16 and x.hour < 20:\n",
    "        return '5'\n",
    "    else:\n",
    "        return '6'\n",
    "\n"
   ]
  },
  {
   "cell_type": "code",
   "execution_count": 16,
   "metadata": {
    "execution": {
     "iopub.execute_input": "2021-07-27T16:44:02.380157Z",
     "iopub.status.busy": "2021-07-27T16:44:02.379244Z",
     "iopub.status.idle": "2021-07-27T16:44:02.383534Z",
     "shell.execute_reply": "2021-07-27T16:44:02.384009Z",
     "shell.execute_reply.started": "2021-07-27T16:43:20.264378Z"
    },
    "papermill": {
     "duration": 0.040411,
     "end_time": "2021-07-27T16:44:02.384170",
     "exception": false,
     "start_time": "2021-07-27T16:44:02.343759",
     "status": "completed"
    },
    "tags": []
   },
   "outputs": [],
   "source": [
    "#a function to split time into night and day segments    \n",
    "def timeCategories(x):\n",
    "    if x.hour>= 6 and x.hour < 18:\n",
    "        return 1\n",
    "    else:\n",
    "        return 0\n",
    "\n"
   ]
  },
  {
   "cell_type": "code",
   "execution_count": 17,
   "metadata": {
    "execution": {
     "iopub.execute_input": "2021-07-27T16:44:02.455163Z",
     "iopub.status.busy": "2021-07-27T16:44:02.454254Z",
     "iopub.status.idle": "2021-07-27T16:44:02.459698Z",
     "shell.execute_reply": "2021-07-27T16:44:02.459055Z",
     "shell.execute_reply.started": "2021-07-27T16:43:20.276766Z"
    },
    "papermill": {
     "duration": 0.041883,
     "end_time": "2021-07-27T16:44:02.459834",
     "exception": false,
     "start_time": "2021-07-27T16:44:02.417951",
     "status": "completed"
    },
    "tags": []
   },
   "outputs": [],
   "source": [
    "#a function to split days into weekdays  \n",
    "def weekdaycat(x):\n",
    "    if x in [0,1,2,3,4]:\n",
    "        return 0\n",
    "    else:\n",
    "        return 1\n"
   ]
  },
  {
   "cell_type": "code",
   "execution_count": 18,
   "metadata": {
    "execution": {
     "iopub.execute_input": "2021-07-27T16:44:02.532703Z",
     "iopub.status.busy": "2021-07-27T16:44:02.531709Z",
     "iopub.status.idle": "2021-07-27T16:44:02.534885Z",
     "shell.execute_reply": "2021-07-27T16:44:02.534343Z",
     "shell.execute_reply.started": "2021-07-27T16:43:20.294617Z"
    },
    "papermill": {
     "duration": 0.042197,
     "end_time": "2021-07-27T16:44:02.535031",
     "exception": false,
     "start_time": "2021-07-27T16:44:02.492834",
     "status": "completed"
    },
    "tags": []
   },
   "outputs": [],
   "source": [
    "#a function to split months into seasons\n",
    "def seasons(x):\n",
    "    if x.month in [1,2,3]:\n",
    "        return '0'\n",
    "    elif x.month in [4,5,6]:\n",
    "        return '1'\n",
    "    elif x.month in [7,8,9]:\n",
    "        return '2'\n",
    "    elif x.month in [10,11,12]:\n",
    "        return '3'\n",
    "\n",
    "    \n"
   ]
  },
  {
   "cell_type": "code",
   "execution_count": 19,
   "metadata": {
    "execution": {
     "iopub.execute_input": "2021-07-27T16:44:02.617339Z",
     "iopub.status.busy": "2021-07-27T16:44:02.612950Z",
     "iopub.status.idle": "2021-07-27T16:44:02.824647Z",
     "shell.execute_reply": "2021-07-27T16:44:02.824087Z",
     "shell.execute_reply.started": "2021-07-27T16:43:20.308890Z"
    },
    "papermill": {
     "duration": 0.256652,
     "end_time": "2021-07-27T16:44:02.824791",
     "exception": false,
     "start_time": "2021-07-27T16:44:02.568139",
     "status": "completed"
    },
    "tags": []
   },
   "outputs": [],
   "source": [
    "#encoding categorical data into numerical\n",
    "def encoding(train):\n",
    "    train=train.replace(False,0)\n",
    "    train=train.replace(True,1)\n",
    "    train=train.replace('R',0)\n",
    "    train=train.replace('L',1)\n",
    "    \n",
    "    y=pd.get_dummies(train['description'], prefix='day')\n",
    "    train=pd.concat([train,y],axis=1)\n",
    "    \n",
    "    y2=pd.get_dummies(train['Weather_Condition'], prefix='Weather')\n",
    "    train=pd.concat([train,y2],axis=1)\n",
    "    \n",
    "    #train['Weather_other']=train['Weather_Mist']+train['Weather_Light Drizzle']+train['Weather_Squalls']+train['Weather_Patches of Fog']+train['Weather_Light Thunderstorms and Rain']\n",
    "   \n",
    "    \n",
    "    train['timestamp'] = pd.to_datetime(train['timestamp'])\n",
    "    train['time_category'] = train['timestamp'].apply(timeCategories)\n",
    "    train['weekday']=pd.to_datetime(train['date']).apply(dt.weekday)\n",
    "    #train['weekday']=train['weekday'].apply(weekdaycat)\n",
    "    \n",
    "    y3=pd.get_dummies(train['time_category'], prefix='time_category')\n",
    "    train=pd.concat([train,y3],axis=1)\n",
    "    \n",
    "    y4=pd.get_dummies(train['weekday'], prefix='weekday')\n",
    "    train=pd.concat([train,y4],axis=1)\n",
    "    L=['Weather_Mist','Weather_Light Drizzle','Weather_Squalls','Weather_Patches of Fog','Weather_Light Thunderstorms and Rain']\n",
    "    for i in L:\n",
    "        if i in train.columns:\n",
    "            train=train.drop(i,axis=1)\n",
    "    return train\n",
    "\n",
    "train=clean(train)\n",
    "train=encoding(train)"
   ]
  },
  {
   "cell_type": "code",
   "execution_count": 20,
   "metadata": {
    "execution": {
     "iopub.execute_input": "2021-07-27T16:44:02.900738Z",
     "iopub.status.busy": "2021-07-27T16:44:02.900078Z",
     "iopub.status.idle": "2021-07-27T16:44:02.903137Z",
     "shell.execute_reply": "2021-07-27T16:44:02.902669Z",
     "shell.execute_reply.started": "2021-07-27T16:43:20.532062Z"
    },
    "papermill": {
     "duration": 0.045633,
     "end_time": "2021-07-27T16:44:02.903293",
     "exception": false,
     "start_time": "2021-07-27T16:44:02.857660",
     "status": "completed"
    },
    "tags": []
   },
   "outputs": [],
   "source": [
    "def encoding2(train):\n",
    "    train=train.replace(False,0)\n",
    "    train=train.replace(True,1)\n",
    "    train=train.replace('R',0)\n",
    "    train=train.replace('L',1)\n",
    "    \n",
    "    y=pd.get_dummies(train['description'], prefix='day')\n",
    "    train=pd.concat([train,y],axis=1)\n",
    "    \n",
    "    y2=pd.get_dummies(train['Weather_Condition'], prefix='Weather')\n",
    "    train=pd.concat([train,y2],axis=1)\n",
    "\n",
    "    train['Weather_other']=train['Weather_Light Drizzle']\n",
    "    train['timestamp'] = pd.to_datetime(train['timestamp'])\n",
    "    train['time_category'] = train['timestamp'].apply(timeCategories)\n",
    "    train['weekday']=pd.to_datetime(train['date']).apply(dt.weekday)\n",
    "    \n",
    "    y3=pd.get_dummies(train['time_category'], prefix='time_category')\n",
    "    train=pd.concat([train,y3],axis=1)\n",
    "    \n",
    "    y4=pd.get_dummies(train['weekday'], prefix='weekday')\n",
    "    train=pd.concat([train,y4],axis=1)\n",
    "    return train"
   ]
  },
  {
   "cell_type": "code",
   "execution_count": 21,
   "metadata": {
    "execution": {
     "iopub.execute_input": "2021-07-27T16:44:02.976625Z",
     "iopub.status.busy": "2021-07-27T16:44:02.974521Z",
     "iopub.status.idle": "2021-07-27T16:44:02.993907Z",
     "shell.execute_reply": "2021-07-27T16:44:02.993297Z",
     "shell.execute_reply.started": "2021-07-27T16:43:20.544549Z"
    },
    "papermill": {
     "duration": 0.057567,
     "end_time": "2021-07-27T16:44:02.994038",
     "exception": false,
     "start_time": "2021-07-27T16:44:02.936471",
     "status": "completed"
    },
    "tags": []
   },
   "outputs": [
    {
     "name": "stdout",
     "output_type": "stream",
     "text": [
      "<class 'pandas.core.frame.DataFrame'>\n",
      "Int64Index: 6406 entries, 0 to 6406\n",
      "Data columns (total 52 columns):\n",
      " #   Column                    Non-Null Count  Dtype         \n",
      "---  ------                    --------------  -----         \n",
      " 0   ID                        6406 non-null   int64         \n",
      " 1   Lat                       6406 non-null   float64       \n",
      " 2   Lng                       6406 non-null   float64       \n",
      " 3   Bump                      6406 non-null   float64       \n",
      " 4   Distance(mi)              6406 non-null   float64       \n",
      " 5   Crossing                  6406 non-null   float64       \n",
      " 6   Give_Way                  6406 non-null   float64       \n",
      " 7   Junction                  6406 non-null   float64       \n",
      " 8   No_Exit                   6406 non-null   float64       \n",
      " 9   Railway                   6406 non-null   float64       \n",
      " 10  Roundabout                6406 non-null   float64       \n",
      " 11  Stop                      6406 non-null   float64       \n",
      " 12  Amenity                   6406 non-null   float64       \n",
      " 13  Side                      6406 non-null   int64         \n",
      " 14  Severity                  6406 non-null   int64         \n",
      " 15  timestamp                 6406 non-null   datetime64[ns]\n",
      " 16  date                      6406 non-null   object        \n",
      " 17  description               6406 non-null   float64       \n",
      " 18  datedate                  6406 non-null   object        \n",
      " 19  Weather_Condition         6406 non-null   object        \n",
      " 20  Temperature(F)            6406 non-null   float64       \n",
      " 21  Humidity(%)               6406 non-null   float64       \n",
      " 22  Wind_Speed(mph)           6406 non-null   float64       \n",
      " 23  Visibility(mi)            6406 non-null   float64       \n",
      " 24  Windy                     6406 non-null   float64       \n",
      " 25  day_0.0                   6406 non-null   uint8         \n",
      " 26  day_1.0                   6406 non-null   uint8         \n",
      " 27  Weather_Clear             6406 non-null   uint8         \n",
      " 28  Weather_Cloudy            6406 non-null   uint8         \n",
      " 29  Weather_Fair              6406 non-null   uint8         \n",
      " 30  Weather_Fog               6406 non-null   uint8         \n",
      " 31  Weather_Haze              6406 non-null   uint8         \n",
      " 32  Weather_Heavy Rain        6406 non-null   uint8         \n",
      " 33  Weather_Light Rain        6406 non-null   uint8         \n",
      " 34  Weather_Mostly Cloudy     6406 non-null   uint8         \n",
      " 35  Weather_Overcast          6406 non-null   uint8         \n",
      " 36  Weather_Partly Cloudy     6406 non-null   uint8         \n",
      " 37  Weather_Rain              6406 non-null   uint8         \n",
      " 38  Weather_Scattered Clouds  6406 non-null   uint8         \n",
      " 39  Weather_Shallow Fog       6406 non-null   uint8         \n",
      " 40  Weather_Smoke             6406 non-null   uint8         \n",
      " 41  time_category             6406 non-null   int64         \n",
      " 42  weekday                   6406 non-null   int64         \n",
      " 43  time_category_0           6406 non-null   uint8         \n",
      " 44  time_category_1           6406 non-null   uint8         \n",
      " 45  weekday_0                 6406 non-null   uint8         \n",
      " 46  weekday_1                 6406 non-null   uint8         \n",
      " 47  weekday_2                 6406 non-null   uint8         \n",
      " 48  weekday_3                 6406 non-null   uint8         \n",
      " 49  weekday_4                 6406 non-null   uint8         \n",
      " 50  weekday_5                 6406 non-null   uint8         \n",
      " 51  weekday_6                 6406 non-null   uint8         \n",
      "dtypes: datetime64[ns](1), float64(18), int64(5), object(3), uint8(25)\n",
      "memory usage: 1.5+ MB\n"
     ]
    }
   ],
   "source": [
    "train.info()"
   ]
  },
  {
   "cell_type": "code",
   "execution_count": 22,
   "metadata": {
    "execution": {
     "iopub.execute_input": "2021-07-27T16:44:03.066553Z",
     "iopub.status.busy": "2021-07-27T16:44:03.065902Z",
     "iopub.status.idle": "2021-07-27T16:44:07.970355Z",
     "shell.execute_reply": "2021-07-27T16:44:07.969659Z",
     "shell.execute_reply.started": "2021-07-27T16:43:20.579078Z"
    },
    "papermill": {
     "duration": 4.943413,
     "end_time": "2021-07-27T16:44:07.970506",
     "exception": false,
     "start_time": "2021-07-27T16:44:03.027093",
     "status": "completed"
    },
    "tags": []
   },
   "outputs": [
    {
     "data": {
      "text/plain": [
       "<BarContainer object of 47 artists>"
      ]
     },
     "execution_count": 22,
     "metadata": {},
     "output_type": "execute_result"
    },
    {
     "data": {
      "image/png": "[encoded data removed]",
      "text/plain": [
       "<Figure size 1440x1440 with 1 Axes>"
      ]
     },
     "metadata": {
      "needs_background": "light"
     },
     "output_type": "display_data"
    }
   ],
   "source": [
    "from sklearn.ensemble import RandomForestRegressor\n",
    "from sklearn.inspection import permutation_importance\n",
    "\n",
    "from matplotlib import pyplot as plt\n",
    "rf = RandomForestRegressor(n_estimators=100)\n",
    "x=train.drop(['Severity','timestamp','Weather_Condition','datedate','date'],axis=1)\n",
    "rf.fit(x,train['Severity'] )\n",
    "plt.rcParams[\"figure.figsize\"] = (20,20)\n",
    "plt.barh( x.columns,rf.feature_importances_)"
   ]
  },
  {
   "cell_type": "code",
   "execution_count": 23,
   "metadata": {
    "execution": {
     "iopub.execute_input": "2021-07-27T16:44:08.050380Z",
     "iopub.status.busy": "2021-07-27T16:44:08.047698Z",
     "iopub.status.idle": "2021-07-27T16:44:08.079605Z",
     "shell.execute_reply": "2021-07-27T16:44:08.080106Z",
     "shell.execute_reply.started": "2021-07-27T16:43:25.596566Z"
    },
    "papermill": {
     "duration": 0.073826,
     "end_time": "2021-07-27T16:44:08.080290",
     "exception": false,
     "start_time": "2021-07-27T16:44:08.006464",
     "status": "completed"
    },
    "tags": []
   },
   "outputs": [
    {
     "data": {
      "text/html": [
       "<div>\n",
       "<style scoped>\n",
       "    .dataframe tbody tr th:only-of-type {\n",
       "        vertical-align: middle;\n",
       "    }\n",
       "\n",
       "    .dataframe tbody tr th {\n",
       "        vertical-align: top;\n",
       "    }\n",
       "\n",
       "    .dataframe thead th {\n",
       "        text-align: right;\n",
       "    }\n",
       "</style>\n",
       "<table border=\"1\" class=\"dataframe\">\n",
       "  <thead>\n",
       "    <tr style=\"text-align: right;\">\n",
       "      <th></th>\n",
       "      <th>ID</th>\n",
       "      <th>Lat</th>\n",
       "      <th>Lng</th>\n",
       "      <th>Bump</th>\n",
       "      <th>Distance(mi)</th>\n",
       "      <th>Crossing</th>\n",
       "      <th>Give_Way</th>\n",
       "      <th>Junction</th>\n",
       "      <th>No_Exit</th>\n",
       "      <th>Railway</th>\n",
       "      <th>...</th>\n",
       "      <th>weekday</th>\n",
       "      <th>time_category_0</th>\n",
       "      <th>time_category_1</th>\n",
       "      <th>weekday_0</th>\n",
       "      <th>weekday_1</th>\n",
       "      <th>weekday_2</th>\n",
       "      <th>weekday_3</th>\n",
       "      <th>weekday_4</th>\n",
       "      <th>weekday_5</th>\n",
       "      <th>weekday_6</th>\n",
       "    </tr>\n",
       "  </thead>\n",
       "  <tbody>\n",
       "    <tr>\n",
       "      <th>0</th>\n",
       "      <td>0</td>\n",
       "      <td>37.762150</td>\n",
       "      <td>-122.405660</td>\n",
       "      <td>0.0</td>\n",
       "      <td>0.044</td>\n",
       "      <td>0.0</td>\n",
       "      <td>0.0</td>\n",
       "      <td>0.0</td>\n",
       "      <td>0.0</td>\n",
       "      <td>0.0</td>\n",
       "      <td>...</td>\n",
       "      <td>4</td>\n",
       "      <td>0</td>\n",
       "      <td>1</td>\n",
       "      <td>0</td>\n",
       "      <td>0</td>\n",
       "      <td>0</td>\n",
       "      <td>0</td>\n",
       "      <td>1</td>\n",
       "      <td>0</td>\n",
       "      <td>0</td>\n",
       "    </tr>\n",
       "    <tr>\n",
       "      <th>1</th>\n",
       "      <td>1</td>\n",
       "      <td>37.719157</td>\n",
       "      <td>-122.448254</td>\n",
       "      <td>0.0</td>\n",
       "      <td>0.000</td>\n",
       "      <td>0.0</td>\n",
       "      <td>0.0</td>\n",
       "      <td>0.0</td>\n",
       "      <td>0.0</td>\n",
       "      <td>0.0</td>\n",
       "      <td>...</td>\n",
       "      <td>1</td>\n",
       "      <td>1</td>\n",
       "      <td>0</td>\n",
       "      <td>0</td>\n",
       "      <td>1</td>\n",
       "      <td>0</td>\n",
       "      <td>0</td>\n",
       "      <td>0</td>\n",
       "      <td>0</td>\n",
       "      <td>0</td>\n",
       "    </tr>\n",
       "    <tr>\n",
       "      <th>2</th>\n",
       "      <td>2</td>\n",
       "      <td>37.808498</td>\n",
       "      <td>-122.366852</td>\n",
       "      <td>0.0</td>\n",
       "      <td>0.000</td>\n",
       "      <td>0.0</td>\n",
       "      <td>0.0</td>\n",
       "      <td>0.0</td>\n",
       "      <td>0.0</td>\n",
       "      <td>0.0</td>\n",
       "      <td>...</td>\n",
       "      <td>4</td>\n",
       "      <td>1</td>\n",
       "      <td>0</td>\n",
       "      <td>0</td>\n",
       "      <td>0</td>\n",
       "      <td>0</td>\n",
       "      <td>0</td>\n",
       "      <td>1</td>\n",
       "      <td>0</td>\n",
       "      <td>0</td>\n",
       "    </tr>\n",
       "    <tr>\n",
       "      <th>3</th>\n",
       "      <td>3</td>\n",
       "      <td>37.785930</td>\n",
       "      <td>-122.391080</td>\n",
       "      <td>0.0</td>\n",
       "      <td>0.009</td>\n",
       "      <td>0.0</td>\n",
       "      <td>0.0</td>\n",
       "      <td>1.0</td>\n",
       "      <td>0.0</td>\n",
       "      <td>0.0</td>\n",
       "      <td>...</td>\n",
       "      <td>6</td>\n",
       "      <td>1</td>\n",
       "      <td>0</td>\n",
       "      <td>0</td>\n",
       "      <td>0</td>\n",
       "      <td>0</td>\n",
       "      <td>0</td>\n",
       "      <td>0</td>\n",
       "      <td>0</td>\n",
       "      <td>1</td>\n",
       "    </tr>\n",
       "    <tr>\n",
       "      <th>4</th>\n",
       "      <td>4</td>\n",
       "      <td>37.719141</td>\n",
       "      <td>-122.448457</td>\n",
       "      <td>0.0</td>\n",
       "      <td>0.000</td>\n",
       "      <td>0.0</td>\n",
       "      <td>0.0</td>\n",
       "      <td>0.0</td>\n",
       "      <td>0.0</td>\n",
       "      <td>0.0</td>\n",
       "      <td>...</td>\n",
       "      <td>2</td>\n",
       "      <td>0</td>\n",
       "      <td>1</td>\n",
       "      <td>0</td>\n",
       "      <td>0</td>\n",
       "      <td>1</td>\n",
       "      <td>0</td>\n",
       "      <td>0</td>\n",
       "      <td>0</td>\n",
       "      <td>0</td>\n",
       "    </tr>\n",
       "    <tr>\n",
       "      <th>...</th>\n",
       "      <td>...</td>\n",
       "      <td>...</td>\n",
       "      <td>...</td>\n",
       "      <td>...</td>\n",
       "      <td>...</td>\n",
       "      <td>...</td>\n",
       "      <td>...</td>\n",
       "      <td>...</td>\n",
       "      <td>...</td>\n",
       "      <td>...</td>\n",
       "      <td>...</td>\n",
       "      <td>...</td>\n",
       "      <td>...</td>\n",
       "      <td>...</td>\n",
       "      <td>...</td>\n",
       "      <td>...</td>\n",
       "      <td>...</td>\n",
       "      <td>...</td>\n",
       "      <td>...</td>\n",
       "      <td>...</td>\n",
       "      <td>...</td>\n",
       "    </tr>\n",
       "    <tr>\n",
       "      <th>6402</th>\n",
       "      <td>6402</td>\n",
       "      <td>37.740630</td>\n",
       "      <td>-122.407930</td>\n",
       "      <td>0.0</td>\n",
       "      <td>0.368</td>\n",
       "      <td>0.0</td>\n",
       "      <td>0.0</td>\n",
       "      <td>0.0</td>\n",
       "      <td>0.0</td>\n",
       "      <td>0.0</td>\n",
       "      <td>...</td>\n",
       "      <td>6</td>\n",
       "      <td>1</td>\n",
       "      <td>0</td>\n",
       "      <td>0</td>\n",
       "      <td>0</td>\n",
       "      <td>0</td>\n",
       "      <td>0</td>\n",
       "      <td>0</td>\n",
       "      <td>0</td>\n",
       "      <td>1</td>\n",
       "    </tr>\n",
       "    <tr>\n",
       "      <th>6403</th>\n",
       "      <td>6403</td>\n",
       "      <td>37.752755</td>\n",
       "      <td>-122.402790</td>\n",
       "      <td>0.0</td>\n",
       "      <td>0.639</td>\n",
       "      <td>0.0</td>\n",
       "      <td>0.0</td>\n",
       "      <td>1.0</td>\n",
       "      <td>0.0</td>\n",
       "      <td>0.0</td>\n",
       "      <td>...</td>\n",
       "      <td>1</td>\n",
       "      <td>0</td>\n",
       "      <td>1</td>\n",
       "      <td>0</td>\n",
       "      <td>1</td>\n",
       "      <td>0</td>\n",
       "      <td>0</td>\n",
       "      <td>0</td>\n",
       "      <td>0</td>\n",
       "      <td>0</td>\n",
       "    </tr>\n",
       "    <tr>\n",
       "      <th>6404</th>\n",
       "      <td>6404</td>\n",
       "      <td>37.726304</td>\n",
       "      <td>-122.446015</td>\n",
       "      <td>0.0</td>\n",
       "      <td>0.000</td>\n",
       "      <td>0.0</td>\n",
       "      <td>0.0</td>\n",
       "      <td>1.0</td>\n",
       "      <td>0.0</td>\n",
       "      <td>0.0</td>\n",
       "      <td>...</td>\n",
       "      <td>0</td>\n",
       "      <td>0</td>\n",
       "      <td>1</td>\n",
       "      <td>1</td>\n",
       "      <td>0</td>\n",
       "      <td>0</td>\n",
       "      <td>0</td>\n",
       "      <td>0</td>\n",
       "      <td>0</td>\n",
       "      <td>0</td>\n",
       "    </tr>\n",
       "    <tr>\n",
       "      <th>6405</th>\n",
       "      <td>6405</td>\n",
       "      <td>37.808090</td>\n",
       "      <td>-122.367211</td>\n",
       "      <td>0.0</td>\n",
       "      <td>0.000</td>\n",
       "      <td>0.0</td>\n",
       "      <td>0.0</td>\n",
       "      <td>1.0</td>\n",
       "      <td>0.0</td>\n",
       "      <td>0.0</td>\n",
       "      <td>...</td>\n",
       "      <td>5</td>\n",
       "      <td>0</td>\n",
       "      <td>1</td>\n",
       "      <td>0</td>\n",
       "      <td>0</td>\n",
       "      <td>0</td>\n",
       "      <td>0</td>\n",
       "      <td>0</td>\n",
       "      <td>1</td>\n",
       "      <td>0</td>\n",
       "    </tr>\n",
       "    <tr>\n",
       "      <th>6406</th>\n",
       "      <td>6406</td>\n",
       "      <td>37.773745</td>\n",
       "      <td>-122.408515</td>\n",
       "      <td>0.0</td>\n",
       "      <td>0.000</td>\n",
       "      <td>1.0</td>\n",
       "      <td>0.0</td>\n",
       "      <td>0.0</td>\n",
       "      <td>0.0</td>\n",
       "      <td>0.0</td>\n",
       "      <td>...</td>\n",
       "      <td>4</td>\n",
       "      <td>1</td>\n",
       "      <td>0</td>\n",
       "      <td>0</td>\n",
       "      <td>0</td>\n",
       "      <td>0</td>\n",
       "      <td>0</td>\n",
       "      <td>1</td>\n",
       "      <td>0</td>\n",
       "      <td>0</td>\n",
       "    </tr>\n",
       "  </tbody>\n",
       "</table>\n",
       "<p>6406 rows × 52 columns</p>\n",
       "</div>"
      ],
      "text/plain": [
       "        ID        Lat         Lng  Bump  Distance(mi)  Crossing  Give_Way  \\\n",
       "0        0  37.762150 -122.405660   0.0         0.044       0.0       0.0   \n",
       "1        1  37.719157 -122.448254   0.0         0.000       0.0       0.0   \n",
       "2        2  37.808498 -122.366852   0.0         0.000       0.0       0.0   \n",
       "3        3  37.785930 -122.391080   0.0         0.009       0.0       0.0   \n",
       "4        4  37.719141 -122.448457   0.0         0.000       0.0       0.0   \n",
       "...    ...        ...         ...   ...           ...       ...       ...   \n",
       "6402  6402  37.740630 -122.407930   0.0         0.368       0.0       0.0   \n",
       "6403  6403  37.752755 -122.402790   0.0         0.639       0.0       0.0   \n",
       "6404  6404  37.726304 -122.446015   0.0         0.000       0.0       0.0   \n",
       "6405  6405  37.808090 -122.367211   0.0         0.000       0.0       0.0   \n",
       "6406  6406  37.773745 -122.408515   0.0         0.000       1.0       0.0   \n",
       "\n",
       "      Junction  No_Exit  Railway  ...  weekday  time_category_0  \\\n",
       "0          0.0      0.0      0.0  ...        4                0   \n",
       "1          0.0      0.0      0.0  ...        1                1   \n",
       "2          0.0      0.0      0.0  ...        4                1   \n",
       "3          1.0      0.0      0.0  ...        6                1   \n",
       "4          0.0      0.0      0.0  ...        2                0   \n",
       "...        ...      ...      ...  ...      ...              ...   \n",
       "6402       0.0      0.0      0.0  ...        6                1   \n",
       "6403       1.0      0.0      0.0  ...        1                0   \n",
       "6404       1.0      0.0      0.0  ...        0                0   \n",
       "6405       1.0      0.0      0.0  ...        5                0   \n",
       "6406       0.0      0.0      0.0  ...        4                1   \n",
       "\n",
       "      time_category_1  weekday_0  weekday_1 weekday_2 weekday_3  weekday_4  \\\n",
       "0                   1          0          0         0         0          1   \n",
       "1                   0          0          1         0         0          0   \n",
       "2                   0          0          0         0         0          1   \n",
       "3                   0          0          0         0         0          0   \n",
       "4                   1          0          0         1         0          0   \n",
       "...               ...        ...        ...       ...       ...        ...   \n",
       "6402                0          0          0         0         0          0   \n",
       "6403                1          0          1         0         0          0   \n",
       "6404                1          1          0         0         0          0   \n",
       "6405                1          0          0         0         0          0   \n",
       "6406                0          0          0         0         0          1   \n",
       "\n",
       "     weekday_5 weekday_6  \n",
       "0            0         0  \n",
       "1            0         0  \n",
       "2            0         0  \n",
       "3            0         1  \n",
       "4            0         0  \n",
       "...        ...       ...  \n",
       "6402         0         1  \n",
       "6403         0         0  \n",
       "6404         0         0  \n",
       "6405         1         0  \n",
       "6406         0         0  \n",
       "\n",
       "[6406 rows x 52 columns]"
      ]
     },
     "execution_count": 23,
     "metadata": {},
     "output_type": "execute_result"
    }
   ],
   "source": [
    "train"
   ]
  },
  {
   "cell_type": "raw",
   "metadata": {
    "papermill": {
     "duration": 0.0361,
     "end_time": "2021-07-27T16:44:08.153466",
     "exception": false,
     "start_time": "2021-07-27T16:44:08.117366",
     "status": "completed"
    },
    "tags": []
   },
   "source": []
  },
  {
   "cell_type": "code",
   "execution_count": 24,
   "metadata": {
    "execution": {
     "iopub.execute_input": "2021-07-27T16:44:08.231739Z",
     "iopub.status.busy": "2021-07-27T16:44:08.231077Z",
     "iopub.status.idle": "2021-07-27T16:44:08.233757Z",
     "shell.execute_reply": "2021-07-27T16:44:08.234237Z",
     "shell.execute_reply.started": "2021-07-27T16:43:25.639869Z"
    },
    "papermill": {
     "duration": 0.044045,
     "end_time": "2021-07-27T16:44:08.234422",
     "exception": false,
     "start_time": "2021-07-27T16:44:08.190377",
     "status": "completed"
    },
    "tags": []
   },
   "outputs": [],
   "source": [
    "def get_relevant_features(train):\n",
    "    train=train[['ID','Lat','Lng','Distance(mi)','Stop','Temperature(F)','Humidity(%)','Wind_Speed(mph)','weekday','Severity','Visibility(mi)','Weather_Fair']]\n",
    "    return train"
   ]
  },
  {
   "cell_type": "code",
   "execution_count": 25,
   "metadata": {
    "execution": {
     "iopub.execute_input": "2021-07-27T16:44:08.312758Z",
     "iopub.status.busy": "2021-07-27T16:44:08.312083Z",
     "iopub.status.idle": "2021-07-27T16:44:08.315338Z",
     "shell.execute_reply": "2021-07-27T16:44:08.314695Z",
     "shell.execute_reply.started": "2021-07-27T16:43:25.646202Z"
    },
    "papermill": {
     "duration": 0.044703,
     "end_time": "2021-07-27T16:44:08.315495",
     "exception": false,
     "start_time": "2021-07-27T16:44:08.270792",
     "status": "completed"
    },
    "tags": []
   },
   "outputs": [],
   "source": [
    "def get_relevant_features2(train):\n",
    "    train=train[['ID','Lat','Lng','Distance(mi)','Stop','Temperature(F)','Humidity(%)','Wind_Speed(mph)','weekday','Visibility(mi)','Weather_Fair']]\n",
    "    return train"
   ]
  },
  {
   "cell_type": "code",
   "execution_count": 26,
   "metadata": {
    "execution": {
     "iopub.execute_input": "2021-07-27T16:44:08.395311Z",
     "iopub.status.busy": "2021-07-27T16:44:08.394699Z",
     "iopub.status.idle": "2021-07-27T16:44:08.397418Z",
     "shell.execute_reply": "2021-07-27T16:44:08.397876Z",
     "shell.execute_reply.started": "2021-07-27T16:43:25.660294Z"
    },
    "papermill": {
     "duration": 0.045349,
     "end_time": "2021-07-27T16:44:08.398041",
     "exception": false,
     "start_time": "2021-07-27T16:44:08.352692",
     "status": "completed"
    },
    "tags": []
   },
   "outputs": [],
   "source": [
    "train=get_relevant_features(train)"
   ]
  },
  {
   "cell_type": "code",
   "execution_count": 27,
   "metadata": {
    "execution": {
     "iopub.execute_input": "2021-07-27T16:44:08.476675Z",
     "iopub.status.busy": "2021-07-27T16:44:08.476020Z",
     "iopub.status.idle": "2021-07-27T16:44:08.488893Z",
     "shell.execute_reply": "2021-07-27T16:44:08.488255Z",
     "shell.execute_reply.started": "2021-07-27T16:43:25.677755Z"
    },
    "papermill": {
     "duration": 0.054619,
     "end_time": "2021-07-27T16:44:08.489029",
     "exception": false,
     "start_time": "2021-07-27T16:44:08.434410",
     "status": "completed"
    },
    "tags": []
   },
   "outputs": [
    {
     "name": "stdout",
     "output_type": "stream",
     "text": [
      "<class 'pandas.core.frame.DataFrame'>\n",
      "Int64Index: 6406 entries, 0 to 6406\n",
      "Data columns (total 12 columns):\n",
      " #   Column           Non-Null Count  Dtype  \n",
      "---  ------           --------------  -----  \n",
      " 0   ID               6406 non-null   int64  \n",
      " 1   Lat              6406 non-null   float64\n",
      " 2   Lng              6406 non-null   float64\n",
      " 3   Distance(mi)     6406 non-null   float64\n",
      " 4   Stop             6406 non-null   float64\n",
      " 5   Temperature(F)   6406 non-null   float64\n",
      " 6   Humidity(%)      6406 non-null   float64\n",
      " 7   Wind_Speed(mph)  6406 non-null   float64\n",
      " 8   weekday          6406 non-null   int64  \n",
      " 9   Severity         6406 non-null   int64  \n",
      " 10  Visibility(mi)   6406 non-null   float64\n",
      " 11  Weather_Fair     6406 non-null   uint8  \n",
      "dtypes: float64(8), int64(3), uint8(1)\n",
      "memory usage: 606.8 KB\n"
     ]
    }
   ],
   "source": [
    "train.info()"
   ]
  },
  {
   "cell_type": "code",
   "execution_count": 28,
   "metadata": {
    "execution": {
     "iopub.execute_input": "2021-07-27T16:44:08.568704Z",
     "iopub.status.busy": "2021-07-27T16:44:08.568063Z",
     "iopub.status.idle": "2021-07-27T16:44:08.691465Z",
     "shell.execute_reply": "2021-07-27T16:44:08.690519Z",
     "shell.execute_reply.started": "2021-07-27T16:43:25.700401Z"
    },
    "papermill": {
     "duration": 0.165825,
     "end_time": "2021-07-27T16:44:08.691616",
     "exception": false,
     "start_time": "2021-07-27T16:44:08.525791",
     "status": "completed"
    },
    "tags": []
   },
   "outputs": [
    {
     "data": {
      "text/html": [
       "<div>\n",
       "<style scoped>\n",
       "    .dataframe tbody tr th:only-of-type {\n",
       "        vertical-align: middle;\n",
       "    }\n",
       "\n",
       "    .dataframe tbody tr th {\n",
       "        vertical-align: top;\n",
       "    }\n",
       "\n",
       "    .dataframe thead th {\n",
       "        text-align: right;\n",
       "    }\n",
       "</style>\n",
       "<table border=\"1\" class=\"dataframe\">\n",
       "  <thead>\n",
       "    <tr style=\"text-align: right;\">\n",
       "      <th></th>\n",
       "      <th>Severity</th>\n",
       "    </tr>\n",
       "  </thead>\n",
       "  <tbody>\n",
       "    <tr>\n",
       "      <th>Distance(mi)</th>\n",
       "      <td>0.013071</td>\n",
       "    </tr>\n",
       "    <tr>\n",
       "      <th>Visibility(mi)</th>\n",
       "      <td>0.015716</td>\n",
       "    </tr>\n",
       "    <tr>\n",
       "      <th>Temperature(F)</th>\n",
       "      <td>0.018306</td>\n",
       "    </tr>\n",
       "    <tr>\n",
       "      <th>ID</th>\n",
       "      <td>0.021050</td>\n",
       "    </tr>\n",
       "    <tr>\n",
       "      <th>Wind_Speed(mph)</th>\n",
       "      <td>0.021897</td>\n",
       "    </tr>\n",
       "    <tr>\n",
       "      <th>weekday</th>\n",
       "      <td>0.041102</td>\n",
       "    </tr>\n",
       "    <tr>\n",
       "      <th>Humidity(%)</th>\n",
       "      <td>0.076742</td>\n",
       "    </tr>\n",
       "    <tr>\n",
       "      <th>Lat</th>\n",
       "      <td>0.099815</td>\n",
       "    </tr>\n",
       "    <tr>\n",
       "      <th>Weather_Fair</th>\n",
       "      <td>0.138609</td>\n",
       "    </tr>\n",
       "    <tr>\n",
       "      <th>Lng</th>\n",
       "      <td>0.145331</td>\n",
       "    </tr>\n",
       "    <tr>\n",
       "      <th>Stop</th>\n",
       "      <td>0.229373</td>\n",
       "    </tr>\n",
       "    <tr>\n",
       "      <th>Severity</th>\n",
       "      <td>1.000000</td>\n",
       "    </tr>\n",
       "  </tbody>\n",
       "</table>\n",
       "</div>"
      ],
      "text/plain": [
       "                 Severity\n",
       "Distance(mi)     0.013071\n",
       "Visibility(mi)   0.015716\n",
       "Temperature(F)   0.018306\n",
       "ID               0.021050\n",
       "Wind_Speed(mph)  0.021897\n",
       "weekday          0.041102\n",
       "Humidity(%)      0.076742\n",
       "Lat              0.099815\n",
       "Weather_Fair     0.138609\n",
       "Lng              0.145331\n",
       "Stop             0.229373\n",
       "Severity         1.000000"
      ]
     },
     "execution_count": 28,
     "metadata": {},
     "output_type": "execute_result"
    }
   ],
   "source": [
    "cor=pd.DataFrame(train[train.columns[0:]].corr()['Severity'][:]).apply(abs).sort_values(by='Severity')\n",
    "cor"
   ]
  },
  {
   "cell_type": "code",
   "execution_count": 29,
   "metadata": {
    "execution": {
     "iopub.execute_input": "2021-07-27T16:44:08.773362Z",
     "iopub.status.busy": "2021-07-27T16:44:08.772398Z",
     "iopub.status.idle": "2021-07-27T16:44:08.785167Z",
     "shell.execute_reply": "2021-07-27T16:44:08.784551Z",
     "shell.execute_reply.started": "2021-07-27T16:43:25.722504Z"
    },
    "papermill": {
     "duration": 0.056339,
     "end_time": "2021-07-27T16:44:08.785328",
     "exception": false,
     "start_time": "2021-07-27T16:44:08.728989",
     "status": "completed"
    },
    "tags": []
   },
   "outputs": [],
   "source": [
    "from sklearn.model_selection import train_test_split\n",
    "\n",
    "train_df, val_df = train_test_split(train, test_size=0.20, random_state=42,stratify=train['Severity']) # Try adding `stratify` here\n",
    "\n",
    "X_train = train_df.drop(columns=['Severity','ID'])\n",
    "y_train = train_df['Severity']\n",
    "\n",
    "X_val = val_df.drop(columns=['Severity','ID'])\n",
    "y_val = val_df['Severity']\n"
   ]
  },
  {
   "cell_type": "code",
   "execution_count": 64,
   "metadata": {
    "execution": {
     "iopub.execute_input": "2021-07-27T16:44:08.868811Z",
     "iopub.status.busy": "2021-07-27T16:44:08.868147Z",
     "iopub.status.idle": "2021-07-27T16:44:09.187009Z",
     "shell.execute_reply": "2021-07-27T16:44:09.186436Z",
     "shell.execute_reply.started": "2021-07-27T16:43:25.743071Z"
    },
    "papermill": {
     "duration": 0.363633,
     "end_time": "2021-07-27T16:44:09.187148",
     "exception": false,
     "start_time": "2021-07-27T16:44:08.823515",
     "status": "completed"
    },
    "tags": []
   },
   "outputs": [],
   "source": [
    "from sklearn.ensemble import RandomForestClassifier\n",
    "    # Create an instance of the classifier\n",
    "classifier = RandomForestClassifier(max_depth=7, random_state=42)\n",
    "\n",
    "    # Train the classifier\n",
    "classifier = classifier.fit(X_train, y_train)"
   ]
  },
  {
   "cell_type": "code",
   "execution_count": 65,
   "metadata": {
    "execution": {
     "iopub.execute_input": "2021-07-27T16:44:09.374387Z",
     "iopub.status.busy": "2021-07-27T16:44:09.373709Z",
     "iopub.status.idle": "2021-07-27T16:44:09.420350Z",
     "shell.execute_reply": "2021-07-27T16:44:09.419163Z",
     "shell.execute_reply.started": "2021-07-27T16:43:26.116668Z"
    },
    "papermill": {
     "duration": 0.090335,
     "end_time": "2021-07-27T16:44:09.420600",
     "exception": false,
     "start_time": "2021-07-27T16:44:09.330265",
     "status": "completed"
    },
    "tags": []
   },
   "outputs": [
    {
     "name": "stdout",
     "output_type": "stream",
     "text": [
      "The accuracy of the classifier on the training set is  0.8054254488680718\n"
     ]
    }
   ],
   "source": [
    "#testing data on training data\n",
    "print(\"The accuracy of the classifier on the training set is \", (classifier.score(X_train, y_train)))"
   ]
  },
  {
   "cell_type": "code",
   "execution_count": 66,
   "metadata": {
    "execution": {
     "iopub.execute_input": "2021-07-27T16:44:09.271573Z",
     "iopub.status.busy": "2021-07-27T16:44:09.269023Z",
     "iopub.status.idle": "2021-07-27T16:44:09.292040Z",
     "shell.execute_reply": "2021-07-27T16:44:09.290993Z",
     "shell.execute_reply.started": "2021-07-27T16:43:26.083964Z"
    },
    "papermill": {
     "duration": 0.067443,
     "end_time": "2021-07-27T16:44:09.292192",
     "exception": false,
     "start_time": "2021-07-27T16:44:09.224749",
     "status": "completed"
    },
    "tags": []
   },
   "outputs": [
    {
     "name": "stdout",
     "output_type": "stream",
     "text": [
      "The accuracy of the classifier on the validation set is  0.7878315132605305\n"
     ]
    }
   ],
   "source": [
    "#testing data on validation data\n",
    "print(\"The accuracy of the classifier on the validation set is \", (classifier.score(X_val, y_val)))"
   ]
  },
  {
   "cell_type": "code",
   "execution_count": 33,
   "metadata": {
    "execution": {
     "iopub.execute_input": "2021-07-27T16:44:09.506581Z",
     "iopub.status.busy": "2021-07-27T16:44:09.505565Z",
     "iopub.status.idle": "2021-07-27T16:44:09.513133Z",
     "shell.execute_reply": "2021-07-27T16:44:09.512454Z",
     "shell.execute_reply.started": "2021-07-27T16:43:26.170277Z"
    },
    "papermill": {
     "duration": 0.053708,
     "end_time": "2021-07-27T16:44:09.513296",
     "exception": false,
     "start_time": "2021-07-27T16:44:09.459588",
     "status": "completed"
    },
    "tags": []
   },
   "outputs": [],
   "source": [
    "test=mergeholidays(test,holidays)"
   ]
  },
  {
   "cell_type": "code",
   "execution_count": 34,
   "metadata": {
    "execution": {
     "iopub.execute_input": "2021-07-27T16:44:09.596275Z",
     "iopub.status.busy": "2021-07-27T16:44:09.595275Z",
     "iopub.status.idle": "2021-07-27T16:44:09.606166Z",
     "shell.execute_reply": "2021-07-27T16:44:09.605628Z",
     "shell.execute_reply.started": "2021-07-27T16:43:26.189398Z"
    },
    "papermill": {
     "duration": 0.055321,
     "end_time": "2021-07-27T16:44:09.606316",
     "exception": false,
     "start_time": "2021-07-27T16:44:09.550995",
     "status": "completed"
    },
    "tags": []
   },
   "outputs": [],
   "source": [
    "test=mergeweather(test,weather2)"
   ]
  },
  {
   "cell_type": "code",
   "execution_count": 35,
   "metadata": {
    "execution": {
     "iopub.execute_input": "2021-07-27T16:44:09.692183Z",
     "iopub.status.busy": "2021-07-27T16:44:09.690362Z",
     "iopub.status.idle": "2021-07-27T16:44:09.763739Z",
     "shell.execute_reply": "2021-07-27T16:44:09.763104Z",
     "shell.execute_reply.started": "2021-07-27T16:43:26.209621Z"
    },
    "papermill": {
     "duration": 0.119889,
     "end_time": "2021-07-27T16:44:09.763879",
     "exception": false,
     "start_time": "2021-07-27T16:44:09.643990",
     "status": "completed"
    },
    "tags": []
   },
   "outputs": [],
   "source": [
    "test=clean(test)\n",
    "test=encoding(test)"
   ]
  },
  {
   "cell_type": "code",
   "execution_count": 36,
   "metadata": {
    "execution": {
     "iopub.execute_input": "2021-07-27T16:44:09.845845Z",
     "iopub.status.busy": "2021-07-27T16:44:09.845200Z",
     "iopub.status.idle": "2021-07-27T16:44:09.848082Z",
     "shell.execute_reply": "2021-07-27T16:44:09.847449Z",
     "shell.execute_reply.started": "2021-07-27T16:43:26.292443Z"
    },
    "papermill": {
     "duration": 0.04639,
     "end_time": "2021-07-27T16:44:09.848252",
     "exception": false,
     "start_time": "2021-07-27T16:44:09.801862",
     "status": "completed"
    },
    "tags": []
   },
   "outputs": [],
   "source": [
    "test=get_relevant_features2(test)"
   ]
  },
  {
   "cell_type": "code",
   "execution_count": 37,
   "metadata": {
    "execution": {
     "iopub.execute_input": "2021-07-27T16:44:09.932850Z",
     "iopub.status.busy": "2021-07-27T16:44:09.932093Z",
     "iopub.status.idle": "2021-07-27T16:44:09.955661Z",
     "shell.execute_reply": "2021-07-27T16:44:09.955090Z",
     "shell.execute_reply.started": "2021-07-27T16:43:26.300789Z"
    },
    "papermill": {
     "duration": 0.069489,
     "end_time": "2021-07-27T16:44:09.955796",
     "exception": false,
     "start_time": "2021-07-27T16:44:09.886307",
     "status": "completed"
    },
    "tags": []
   },
   "outputs": [],
   "source": [
    "X_test = test.drop(columns=['ID'])\n",
    "y_test_predicted = classifier.predict(X_test)\n",
    "\n",
    "test['Severity'] = y_test_predicted\n",
    "\n"
   ]
  },
  {
   "cell_type": "code",
   "execution_count": null,
   "metadata": {
    "execution": {
     "iopub.execute_input": "2021-07-27T16:44:10.037327Z",
     "iopub.status.busy": "2021-07-27T16:44:10.036614Z",
     "iopub.status.idle": "2021-07-27T16:44:10.046933Z",
     "shell.execute_reply": "2021-07-27T16:44:10.046395Z",
     "shell.execute_reply.started": "2021-07-27T16:43:26.337476Z"
    },
    "papermill": {
     "duration": 0.053252,
     "end_time": "2021-07-27T16:44:10.047075",
     "exception": false,
     "start_time": "2021-07-27T16:44:09.993823",
     "status": "completed"
    },
    "tags": []
   },
   "outputs": [],
   "source": []
  }
 ],
 "metadata": {
  "kernelspec": {
   "display_name": "Python 3",
   "language": "python",
   "name": "python3"
  },
  "language_info": {
   "codemirror_mode": {
    "name": "ipython",
    "version": 3
   },
   "file_extension": ".py",
   "mimetype": "text/x-python",
   "name": "python",
   "nbconvert_exporter": "python",
   "pygments_lexer": "ipython3",
   "version": "3.8.5"
  },
  "papermill": {
   "default_parameters": {},
   "duration": 19.810295,
   "end_time": "2021-07-27T16:44:11.393141",
   "environment_variables": {},
   "exception": null,
   "input_path": "__notebook__.ipynb",
   "output_path": "__notebook__.ipynb",
   "parameters": {},
   "start_time": "2021-07-27T16:43:51.582846",
   "version": "2.3.3"
  }
 },
 "nbformat": 4,
 "nbformat_minor": 5
}
